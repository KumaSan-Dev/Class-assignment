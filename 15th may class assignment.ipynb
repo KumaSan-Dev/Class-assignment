{
 "cells": [
  {
   "cell_type": "code",
   "execution_count": 1,
   "id": "7d68ca58",
   "metadata": {},
   "outputs": [],
   "source": [
    "s = \"this is My First Python programming class and i am learNING python string and its function\""
   ]
  },
  {
   "cell_type": "code",
   "execution_count": 2,
   "id": "a12b2de0",
   "metadata": {},
   "outputs": [
    {
     "data": {
      "text/plain": [
       "'this is My First Python programming class and i am learNING python string and its function'"
      ]
     },
     "execution_count": 2,
     "metadata": {},
     "output_type": "execute_result"
    }
   ],
   "source": [
    "s"
   ]
  },
  {
   "cell_type": "markdown",
   "id": "0c806348",
   "metadata": {},
   "source": [
    "1 . Try to extract data from index one to index 300 with a jump of 3 \n",
    "2. Try to reverse a string without using reverse function \n",
    "3. Try to split a string after conversion of entire string in uppercase \n",
    "4. try to convert the whole string into lower case \n",
    "5 . Try to capitalize the whole string \n",
    "6 . Write a diference between isalnum() and isalpha()\n",
    "7. Try to give an example of expand tab\n",
    "8 . Give an example of strip , lstrip and rstrip \n",
    "9.  Replace a string charecter by another charector by taking your own example \n",
    "\"sudhanshu\"\n",
    "10 . Try  to give a defination of string center function with and exmple \n",
    "11 . Write your own definition of compiler and interpretor without copy paste form internet in your own language\n",
    "12 . Python is a interpreted of compiled language give a clear ans with your understanding \n",
    "13 . Try to write a usecase of python with your understanding .\n"
   ]
  },
  {
   "cell_type": "code",
   "execution_count": 3,
   "id": "d0422506",
   "metadata": {},
   "outputs": [
    {
     "data": {
      "text/plain": [
       "'h   r tnrrmglsnimeNGyosi dtfco'"
      ]
     },
     "execution_count": 3,
     "metadata": {},
     "output_type": "execute_result"
    }
   ],
   "source": [
    "s[1:300:3]"
   ]
  },
  {
   "cell_type": "code",
   "execution_count": 4,
   "id": "0688c478",
   "metadata": {},
   "outputs": [
    {
     "data": {
      "text/plain": [
       "'noitcnuf sti dna gnirts nohtyp GNINrael ma i dna ssalc gnimmargorp nohtyP tsriF yM si siht'"
      ]
     },
     "execution_count": 4,
     "metadata": {},
     "output_type": "execute_result"
    }
   ],
   "source": [
    "s[::-1]"
   ]
  },
  {
   "cell_type": "code",
   "execution_count": 5,
   "id": "85c11397",
   "metadata": {},
   "outputs": [
    {
     "ename": "AttributeError",
     "evalue": "'str' object has no attribute 'isuppercase'",
     "output_type": "error",
     "traceback": [
      "\u001b[1;31m---------------------------------------------------------------------------\u001b[0m",
      "\u001b[1;31mAttributeError\u001b[0m                            Traceback (most recent call last)",
      "Input \u001b[1;32mIn [5]\u001b[0m, in \u001b[0;36m<cell line: 1>\u001b[1;34m()\u001b[0m\n\u001b[1;32m----> 1\u001b[0m \u001b[43ms\u001b[49m\u001b[38;5;241;43m.\u001b[39;49m\u001b[43misuppercase\u001b[49m()\n",
      "\u001b[1;31mAttributeError\u001b[0m: 'str' object has no attribute 'isuppercase'"
     ]
    }
   ],
   "source": [
    "s.isuppercase()"
   ]
  },
  {
   "cell_type": "code",
   "execution_count": 6,
   "id": "25a9c6cd",
   "metadata": {},
   "outputs": [
    {
     "data": {
      "text/plain": [
       "'THIS IS MY FIRST PYTHON PROGRAMMING CLASS AND I AM LEARNING PYTHON STRING AND ITS FUNCTION'"
      ]
     },
     "execution_count": 6,
     "metadata": {},
     "output_type": "execute_result"
    }
   ],
   "source": [
    "s.upper()"
   ]
  },
  {
   "cell_type": "code",
   "execution_count": 7,
   "id": "268cdeb7",
   "metadata": {},
   "outputs": [
    {
     "data": {
      "text/plain": [
       "['this',\n",
       " 'is',\n",
       " 'My',\n",
       " 'First',\n",
       " 'Python',\n",
       " 'programming',\n",
       " 'class',\n",
       " 'and',\n",
       " 'i',\n",
       " 'am',\n",
       " 'learNING',\n",
       " 'python',\n",
       " 'string',\n",
       " 'and',\n",
       " 'its',\n",
       " 'function']"
      ]
     },
     "execution_count": 7,
     "metadata": {},
     "output_type": "execute_result"
    }
   ],
   "source": [
    "s.split()"
   ]
  },
  {
   "cell_type": "code",
   "execution_count": 8,
   "id": "c83706d2",
   "metadata": {},
   "outputs": [],
   "source": [
    "s = s.upper()"
   ]
  },
  {
   "cell_type": "code",
   "execution_count": 9,
   "id": "8a1d495f",
   "metadata": {},
   "outputs": [
    {
     "data": {
      "text/plain": [
       "'THIS IS MY FIRST PYTHON PROGRAMMING CLASS AND I AM LEARNING PYTHON STRING AND ITS FUNCTION'"
      ]
     },
     "execution_count": 9,
     "metadata": {},
     "output_type": "execute_result"
    }
   ],
   "source": [
    "s"
   ]
  },
  {
   "cell_type": "code",
   "execution_count": 10,
   "id": "7c297ce7",
   "metadata": {},
   "outputs": [
    {
     "ename": "NameError",
     "evalue": "name 'split' is not defined",
     "output_type": "error",
     "traceback": [
      "\u001b[1;31m---------------------------------------------------------------------------\u001b[0m",
      "\u001b[1;31mNameError\u001b[0m                                 Traceback (most recent call last)",
      "Input \u001b[1;32mIn [10]\u001b[0m, in \u001b[0;36m<cell line: 1>\u001b[1;34m()\u001b[0m\n\u001b[1;32m----> 1\u001b[0m \u001b[43msplit\u001b[49m(s)\n",
      "\u001b[1;31mNameError\u001b[0m: name 'split' is not defined"
     ]
    }
   ],
   "source": [
    "split(s)"
   ]
  },
  {
   "cell_type": "code",
   "execution_count": 11,
   "id": "fef7ed80",
   "metadata": {},
   "outputs": [
    {
     "data": {
      "text/plain": [
       "['THIS',\n",
       " 'IS',\n",
       " 'MY',\n",
       " 'FIRST',\n",
       " 'PYTHON',\n",
       " 'PROGRAMMING',\n",
       " 'CLASS',\n",
       " 'AND',\n",
       " 'I',\n",
       " 'AM',\n",
       " 'LEARNING',\n",
       " 'PYTHON',\n",
       " 'STRING',\n",
       " 'AND',\n",
       " 'ITS',\n",
       " 'FUNCTION']"
      ]
     },
     "execution_count": 11,
     "metadata": {},
     "output_type": "execute_result"
    }
   ],
   "source": [
    "s.split()"
   ]
  },
  {
   "cell_type": "code",
   "execution_count": 12,
   "id": "3b3d4e00",
   "metadata": {},
   "outputs": [
    {
     "data": {
      "text/plain": [
       "'this is my first python programming class and i am learning python string and its function'"
      ]
     },
     "execution_count": 12,
     "metadata": {},
     "output_type": "execute_result"
    }
   ],
   "source": [
    "s.lower()"
   ]
  },
  {
   "cell_type": "code",
   "execution_count": 13,
   "id": "b8d9e84c",
   "metadata": {},
   "outputs": [
    {
     "data": {
      "text/plain": [
       "'This is my first python programming class and i am learning python string and its function'"
      ]
     },
     "execution_count": 13,
     "metadata": {},
     "output_type": "execute_result"
    }
   ],
   "source": [
    "s.capitalize()"
   ]
  },
  {
   "cell_type": "code",
   "execution_count": 14,
   "id": "eef9d083",
   "metadata": {},
   "outputs": [
    {
     "data": {
      "text/plain": [
       "False"
      ]
     },
     "execution_count": 14,
     "metadata": {},
     "output_type": "execute_result"
    }
   ],
   "source": [
    "s.isalnum()"
   ]
  },
  {
   "cell_type": "code",
   "execution_count": 16,
   "id": "9009a5fb",
   "metadata": {},
   "outputs": [
    {
     "data": {
      "text/plain": [
       "False"
      ]
     },
     "execution_count": 16,
     "metadata": {},
     "output_type": "execute_result"
    }
   ],
   "source": [
    "s.isalpha()"
   ]
  },
  {
   "cell_type": "markdown",
   "id": "2b912157",
   "metadata": {},
   "source": [
    "The difference between 'isalnum() and isalpha()' is that isalnum() return True or False if the string value\n",
    "has both the integer and string values and there is no space in between where isalpha() return true if the value\n",
    "is only in alphabets with no spaces. \n"
   ]
  },
  {
   "cell_type": "code",
   "execution_count": 29,
   "id": "96b43256",
   "metadata": {},
   "outputs": [],
   "source": [
    "t = 'tanjiro \\thas \\tthe \\tkindest \\tpersonality'"
   ]
  },
  {
   "cell_type": "code",
   "execution_count": 30,
   "id": "ab3e2864",
   "metadata": {},
   "outputs": [
    {
     "data": {
      "text/plain": [
       "'tanjiro \\thas \\tthe \\tkindest \\tpersonality'"
      ]
     },
     "execution_count": 30,
     "metadata": {},
     "output_type": "execute_result"
    }
   ],
   "source": [
    "t"
   ]
  },
  {
   "cell_type": "code",
   "execution_count": 31,
   "id": "168b84b2",
   "metadata": {},
   "outputs": [
    {
     "data": {
      "text/plain": [
       "'tanjiro         has     the     kindest         personality'"
      ]
     },
     "execution_count": 31,
     "metadata": {},
     "output_type": "execute_result"
    }
   ],
   "source": [
    "t.expandtabs()"
   ]
  },
  {
   "cell_type": "code",
   "execution_count": 32,
   "id": "7b93904f",
   "metadata": {},
   "outputs": [
    {
     "data": {
      "text/plain": [
       "'tanjiro \\thas \\tthe \\tkindest \\tpersonality'"
      ]
     },
     "execution_count": 32,
     "metadata": {},
     "output_type": "execute_result"
    }
   ],
   "source": [
    "t.strip()"
   ]
  },
  {
   "cell_type": "code",
   "execution_count": 35,
   "id": "2e095f5c",
   "metadata": {},
   "outputs": [],
   "source": [
    "z = '  zeinitsu is sleepy  '"
   ]
  },
  {
   "cell_type": "code",
   "execution_count": 36,
   "id": "5e908f68",
   "metadata": {},
   "outputs": [
    {
     "data": {
      "text/plain": [
       "'zeinitsu is sleepy'"
      ]
     },
     "execution_count": 36,
     "metadata": {},
     "output_type": "execute_result"
    }
   ],
   "source": [
    "z"
   ]
  },
  {
   "cell_type": "code",
   "execution_count": 37,
   "id": "e55b41b0",
   "metadata": {},
   "outputs": [
    {
     "data": {
      "text/plain": [
       "'zeinitsu is sleepy'"
      ]
     },
     "execution_count": 37,
     "metadata": {},
     "output_type": "execute_result"
    }
   ],
   "source": [
    "z.strip()"
   ]
  },
  {
   "cell_type": "markdown",
   "id": "e8cec23c",
   "metadata": {},
   "source": [
    "Strip functions removes the spaces that are on the left and right side of the string"
   ]
  },
  {
   "cell_type": "code",
   "execution_count": 40,
   "id": "94c23a4b",
   "metadata": {},
   "outputs": [],
   "source": [
    "z = '  zeinitsu   '"
   ]
  },
  {
   "cell_type": "code",
   "execution_count": 41,
   "id": "24067c1c",
   "metadata": {},
   "outputs": [
    {
     "data": {
      "text/plain": [
       "'zeinitsu   '"
      ]
     },
     "execution_count": 41,
     "metadata": {},
     "output_type": "execute_result"
    }
   ],
   "source": [
    "z.lstrip()"
   ]
  },
  {
   "cell_type": "markdown",
   "id": "60a339fc",
   "metadata": {},
   "source": [
    "lstrip removes the spaces that are on the left side of the string"
   ]
  },
  {
   "cell_type": "code",
   "execution_count": 43,
   "id": "08f78dfc",
   "metadata": {},
   "outputs": [
    {
     "data": {
      "text/plain": [
       "'  zeinitsu'"
      ]
     },
     "execution_count": 43,
     "metadata": {},
     "output_type": "execute_result"
    }
   ],
   "source": [
    "z.rstrip()"
   ]
  },
  {
   "cell_type": "code",
   "execution_count": null,
   "id": "1730c2be",
   "metadata": {},
   "outputs": [],
   "source": [
    "rstrip removes the spaces on the right side of the string"
   ]
  },
  {
   "cell_type": "code",
   "execution_count": 44,
   "id": "6edec93b",
   "metadata": {},
   "outputs": [],
   "source": [
    "p = 'prince'"
   ]
  },
  {
   "cell_type": "code",
   "execution_count": 45,
   "id": "2b53ec76",
   "metadata": {},
   "outputs": [
    {
     "data": {
      "text/plain": [
       "'prince'"
      ]
     },
     "execution_count": 45,
     "metadata": {},
     "output_type": "execute_result"
    }
   ],
   "source": [
    "p"
   ]
  },
  {
   "cell_type": "code",
   "execution_count": 46,
   "id": "17359fd4",
   "metadata": {},
   "outputs": [
    {
     "ename": "NameError",
     "evalue": "name 'i' is not defined",
     "output_type": "error",
     "traceback": [
      "\u001b[1;31m---------------------------------------------------------------------------\u001b[0m",
      "\u001b[1;31mNameError\u001b[0m                                 Traceback (most recent call last)",
      "Input \u001b[1;32mIn [46]\u001b[0m, in \u001b[0;36m<cell line: 1>\u001b[1;34m()\u001b[0m\n\u001b[1;32m----> 1\u001b[0m p\u001b[38;5;241m.\u001b[39mreplace(\u001b[43mi\u001b[49m,p,\u001b[38;5;241m-\u001b[39m\u001b[38;5;241m1\u001b[39m)\n",
      "\u001b[1;31mNameError\u001b[0m: name 'i' is not defined"
     ]
    }
   ],
   "source": [
    "p.replace(i,p,-1)"
   ]
  },
  {
   "cell_type": "code",
   "execution_count": 47,
   "id": "4e01052e",
   "metadata": {},
   "outputs": [
    {
     "data": {
      "text/plain": [
       "'prpnce'"
      ]
     },
     "execution_count": 47,
     "metadata": {},
     "output_type": "execute_result"
    }
   ],
   "source": [
    "p.replace('i','p',-1)"
   ]
  },
  {
   "cell_type": "code",
   "execution_count": 48,
   "id": "d5f14b7e",
   "metadata": {},
   "outputs": [
    {
     "data": {
      "text/plain": [
       "'TTTTTTTprinceTTTTTTT'"
      ]
     },
     "execution_count": 48,
     "metadata": {},
     "output_type": "execute_result"
    }
   ],
   "source": [
    "p.center(20,'T')"
   ]
  },
  {
   "cell_type": "markdown",
   "id": "bc2befbf",
   "metadata": {},
   "source": [
    "center adjust the string in middle according to he value that we input in the function and replace the remaining spaces with the letter that we input"
   ]
  },
  {
   "cell_type": "markdown",
   "id": "8ad9cf31",
   "metadata": {},
   "source": [
    "Interpreter and compiler both converts high level language which is known as source code into machine code which can be understood by the computer. Interpreter can compile one statement at a time whereas compiler can compile whole programmes. Interpreter takes less memory while compiler take more memory.\n"
   ]
  },
  {
   "cell_type": "markdown",
   "id": "258243b9",
   "metadata": {},
   "source": [
    "python falls into category of interpretor because it translates one statement at a time and it does not generate object code which saves memory."
   ]
  },
  {
   "cell_type": "markdown",
   "id": "345356d5",
   "metadata": {},
   "source": [
    "Python is used in data science to get,process and manipulate data to through various python libraries such as Pandas and Scipy"
   ]
  },
  {
   "cell_type": "code",
   "execution_count": null,
   "id": "e220449f",
   "metadata": {},
   "outputs": [],
   "source": []
  },
  {
   "cell_type": "code",
   "execution_count": null,
   "id": "4f39c11d",
   "metadata": {},
   "outputs": [],
   "source": []
  }
 ],
 "metadata": {
  "kernelspec": {
   "display_name": "Python 3 (ipykernel)",
   "language": "python",
   "name": "python3"
  },
  "language_info": {
   "codemirror_mode": {
    "name": "ipython",
    "version": 3
   },
   "file_extension": ".py",
   "mimetype": "text/x-python",
   "name": "python",
   "nbconvert_exporter": "python",
   "pygments_lexer": "ipython3",
   "version": "3.9.12"
  }
 },
 "nbformat": 4,
 "nbformat_minor": 5
}
