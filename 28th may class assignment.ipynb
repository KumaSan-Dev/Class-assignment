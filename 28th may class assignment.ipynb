{
 "cells": [
  {
   "cell_type": "code",
   "execution_count": 23,
   "id": "b23a0433",
   "metadata": {},
   "outputs": [
    {
     "ename": "IndentationError",
     "evalue": "unindent does not match any outer indentation level (<tokenize>, line 10)",
     "output_type": "error",
     "traceback": [
      "\u001b[1;36m  File \u001b[1;32m<tokenize>:10\u001b[1;36m\u001b[0m\n\u001b[1;33m    ineruon      ineruon\u001b[0m\n\u001b[1;37m    ^\u001b[0m\n\u001b[1;31mIndentationError\u001b[0m\u001b[1;31m:\u001b[0m unindent does not match any outer indentation level\n"
     ]
    }
   ],
   "source": [
    "q1 :\n",
    "ineruon \n",
    "ineruon ineruon \n",
    "ineruon ineruon ineruon\n",
    "ineruon ineruon ineruon ineruon\n",
    "\n",
    "q2 - \n",
    "\n",
    "          ineruon\n",
    "    ineruon      ineruon\n",
    "ineruon\t\tineruon \tineruon\n",
    "\tineruon\t\t ineruon\n",
    "\t\t  ineruon\n",
    "\n",
    "l = [[1,2,3,4] , (2,3,4,5,6) , (3,4,5,6,7) , set([23,4,5,45,4,4,5,45,45,4,5]) , {'k1' :\"sudh\" , \"k2\" : \"ineuron\",\"k3\":\n",
    "            \"kumar\" , 3:6 , 7:8} , [\"ineuron\" , \"data science \"]]\n",
    "\n",
    "q3 : Try to extract all the list entity \n",
    "q4 : Try to extract all the dict enteties\n",
    "q5 : Try to extract all the tuples entities\n",
    "q6 : Try to extract all the numerical data it may b a part of dict key and values \n",
    "q7 : Try to give summation of all the numeric data \n",
    "q8 : Try to filter out all the odd values out all numeric data which is a part of a list \n",
    "q9 : Try to extract \"ineruon\" out of this data\n",
    "q10 :Try to find out a number of occurances of all the data \n",
    "q11 : Try to find out number of keys in dict element\n",
    "q12 : Try to filter out all the string data \n",
    "q13 : Try to Find  out alphanum in data\n",
    "q14 : Try to find out multiplication of all numeric value in  the individual collection inside dataset \n",
    "q15 : Try to unwrape all the collection inside collection and create a flat list \n",
    "    \n",
    "    \n",
    "before 29th may 2022 3 PM IST you have to send an answer to me or to shivan \n",
    "sudhanshu@ineuron.ai\n",
    "shivan@ineuron.ai"
   ]
  },
  {
   "cell_type": "markdown",
   "id": "1f0f0d7a",
   "metadata": {},
   "source": [
    "Q1"
   ]
  },
  {
   "cell_type": "code",
   "execution_count": null,
   "id": "0819e89d",
   "metadata": {},
   "outputs": [],
   "source": [
    "z = 4\n",
    "for i in range(z) :\n",
    "    for x in range(0 ,i+1) :\n",
    "        print('ineuron', end = \" \")\n",
    "    print('\\n')\n",
    "    "
   ]
  },
  {
   "cell_type": "code",
   "execution_count": null,
   "id": "7a304726",
   "metadata": {},
   "outputs": [],
   "source": [
    "n = 4\n",
    "for i in range(n) :\n",
    "    for j in range(n-i-1) :\n",
    "        print(end = \" \")\n",
    "    for j in range(i+1) :\n",
    "        print('*', end = \" \")\n",
    "    print()"
   ]
  },
  {
   "cell_type": "code",
   "execution_count": null,
   "id": "c74a639e",
   "metadata": {},
   "outputs": [],
   "source": [
    "n = 4\n",
    "for i in range(n) :\n",
    "    for j in range(n-i-1) :\n",
    "        print(end = \" \")\n",
    "    for j in range(i+1) :\n",
    "        print(\"*\", end = \" \")\n",
    "    print()\n",
    "    "
   ]
  },
  {
   "cell_type": "code",
   "execution_count": 24,
   "id": "0f94e9c7",
   "metadata": {},
   "outputs": [
    {
     "name": "stdout",
     "output_type": "stream",
     "text": [
      "                ineuron         \n",
      "        ineuron         ineuron         \n",
      "ineuron         ineuron         ineuron         \n",
      "        ineuron         ineuron         \n",
      "                ineuron         \n",
      "                        \n"
     ]
    }
   ],
   "source": [
    "n = 3\n",
    "for i in range(n) :\n",
    "    for j in range(n-i-1) :\n",
    "        print(\" \"*len(\"ineuron\"), end = \" \")\n",
    "    for j in range(i+1) :\n",
    "        print(\"ineuron\",\" \"*len(\"ineuron\"), end = \" \")\n",
    "    print()\n",
    "\n",
    "for i in range(n) :\n",
    "    for j in range(i+1) :\n",
    "        print(\" \"*len(\"ineuron\"), end = \" \")\n",
    "    for j in range(n-i-1) :\n",
    "        print(\"ineuron\",\" \"*len(\"ineuron\"), end = \" \")\n",
    "    print()"
   ]
  },
  {
   "cell_type": "code",
   "execution_count": 25,
   "id": "bdd20555",
   "metadata": {},
   "outputs": [
    {
     "name": "stdout",
     "output_type": "stream",
     "text": [
      "            potlu       \n",
      "      potlu       potlu       \n",
      "potlu       potlu       potlu       \n",
      "      potlu       potlu       \n",
      "            potlu       \n",
      "                  \n"
     ]
    }
   ],
   "source": [
    "n = 3\n",
    "for i in range(n) :\n",
    "    for j in range(n-i-1) :\n",
    "        print(\" \"*len(\"potlu\"),end = \" \")\n",
    "    for j in range(i+1) :\n",
    "        print(\"potlu\",\" \"*len(\"potlu\"), end = \" \")\n",
    "    print()\n",
    "    \n",
    "for i in range(n) :\n",
    "    for j in range(i+1) :\n",
    "        print(\" \"*len(\"potlu\"), end = \" \")\n",
    "    for j in range(n-i-1) :\n",
    "        print(\"potlu\",\" \"*len(\"potlu\") ,end = \" \")\n",
    "    print()"
   ]
  },
  {
   "cell_type": "markdown",
   "id": "2d7ae5f3",
   "metadata": {},
   "source": [
    "we use end so that the output does not go into the next line "
   ]
  },
  {
   "cell_type": "code",
   "execution_count": 26,
   "id": "25a08b82",
   "metadata": {},
   "outputs": [
    {
     "name": "stdout",
     "output_type": "stream",
     "text": [
      "    * \n",
      "   * * \n",
      "  * * * \n",
      " * * * * \n",
      "* * * * * \n",
      " * * * * \n",
      "  * * * \n",
      "   * * \n",
      "    * \n",
      "     \n"
     ]
    }
   ],
   "source": [
    "n = 5\n",
    "for i in range(n) :\n",
    "    for j in range(n-i-1) :\n",
    "        print(end = \" \")\n",
    "    for j in range(i+1) :\n",
    "        print(\"*\",end = \" \")\n",
    "    print()\n",
    "for i  in range(n) :\n",
    "    for j in range(i+1) :\n",
    "        print(end = \" \")\n",
    "    for j in range(n-i-1) :\n",
    "        print(\"*\", end = \" \")\n",
    "    print()"
   ]
  },
  {
   "cell_type": "markdown",
   "id": "676c0d81",
   "metadata": {},
   "source": [
    "Q3. Try to extract all the list entity"
   ]
  },
  {
   "cell_type": "code",
   "execution_count": 27,
   "id": "81ddb94c",
   "metadata": {},
   "outputs": [],
   "source": [
    "l = [[1,2,3,4] , (2,3,4,5,6) , (3,4,5,6,7) , set([23,4,5,45,4,4,5,45,45,4,5]) , {'k1' :\"sudh\" , \"k2\" : \"ineuron\",\"k3\":\n",
    "            \"kumar\" , 3:6 , 7:8} , [\"ineuron\" , \"data science \"]]"
   ]
  },
  {
   "cell_type": "code",
   "execution_count": 28,
   "id": "09a73515",
   "metadata": {},
   "outputs": [
    {
     "name": "stdout",
     "output_type": "stream",
     "text": [
      "[1, 2, 3, 4]\n",
      "['ineuron', 'data science ']\n"
     ]
    }
   ],
   "source": [
    "for i in l :\n",
    "    if type(i) == list :\n",
    "        print(i)"
   ]
  },
  {
   "cell_type": "markdown",
   "id": "be35caba",
   "metadata": {},
   "source": [
    "Q.4 Try to extract all the dict enteties"
   ]
  },
  {
   "cell_type": "code",
   "execution_count": 29,
   "id": "7ed18e29",
   "metadata": {},
   "outputs": [
    {
     "name": "stdout",
     "output_type": "stream",
     "text": [
      "{'k1': 'sudh', 'k2': 'ineuron', 'k3': 'kumar', 3: 6, 7: 8}\n"
     ]
    }
   ],
   "source": [
    "for i in l :\n",
    "    if type(i) == dict :\n",
    "        print(i)"
   ]
  },
  {
   "cell_type": "markdown",
   "id": "4801dfb0",
   "metadata": {},
   "source": [
    "Q.5 Try to extract all the tuples entities"
   ]
  },
  {
   "cell_type": "code",
   "execution_count": 30,
   "id": "8321f5d0",
   "metadata": {},
   "outputs": [
    {
     "name": "stdout",
     "output_type": "stream",
     "text": [
      "(2, 3, 4, 5, 6)\n",
      "(3, 4, 5, 6, 7)\n"
     ]
    }
   ],
   "source": [
    "for i in l :\n",
    "    if type(i) == tuple :\n",
    "        print(i)"
   ]
  },
  {
   "cell_type": "markdown",
   "id": "fc486052",
   "metadata": {},
   "source": [
    "Q.6 Try to extract all the numerical data it may be a part of dict key and values"
   ]
  },
  {
   "cell_type": "code",
   "execution_count": 31,
   "id": "9625e422",
   "metadata": {},
   "outputs": [],
   "source": [
    "for i in l :\n",
    "    if type(i) == tuple or type(i) == list or set == int :\n",
    "        for j in i :\n",
    "            if j == int :\n",
    "                print(j)\n",
    "    if type(i) == dict :\n",
    "        for k,v in i.items() :\n",
    "            if k == int or v == int :\n",
    "                print(k)\n",
    "                print(v)\n",
    "            \n",
    "    "
   ]
  },
  {
   "cell_type": "code",
   "execution_count": 32,
   "id": "302ef53c",
   "metadata": {},
   "outputs": [
    {
     "name": "stdout",
     "output_type": "stream",
     "text": [
      "[1, 2, 3, 4, 2, 3, 4, 5, 6, 3, 4, 5, 6, 7, 45, 4, 5, 23, 3, 7, 6, 8]\n"
     ]
    }
   ],
   "source": [
    "numeric_list = []\n",
    "for i in l:\n",
    "    for j in i:\n",
    "        if type(j) == int:\n",
    "            numeric_list.append(j)\n",
    "    if type(i) == dict:\n",
    "        for k in i.values():\n",
    "            if type(k) == int:\n",
    "                numeric_list.append(k)\n",
    "print(numeric_list)"
   ]
  },
  {
   "cell_type": "code",
   "execution_count": 33,
   "id": "6aceac4a",
   "metadata": {},
   "outputs": [
    {
     "name": "stdout",
     "output_type": "stream",
     "text": [
      "[1, 2, 3, 4, 2, 3, 4, 5, 6, 3, 4, 5, 6, 7, 45, 4, 5, 23, 3, 7, 6, 8]\n"
     ]
    }
   ],
   "source": [
    "numeric_list = []\n",
    "for i in l :\n",
    "    for j in i :\n",
    "        if type(j) == int :\n",
    "            numeric_list.append(j)\n",
    "    if type(i) == dict :\n",
    "        for k in i.values() :\n",
    "            if type(k) == int :\n",
    "                numeric_list.append(k)\n",
    "print(numeric_list)"
   ]
  },
  {
   "cell_type": "markdown",
   "id": "04dcc32a",
   "metadata": {},
   "source": [
    "Q.7 Try to give summation of all the numeric data "
   ]
  },
  {
   "cell_type": "code",
   "execution_count": 34,
   "id": "e1a58890",
   "metadata": {},
   "outputs": [
    {
     "data": {
      "text/plain": [
       "156"
      ]
     },
     "execution_count": 34,
     "metadata": {},
     "output_type": "execute_result"
    }
   ],
   "source": [
    "sum(numeric_list)"
   ]
  },
  {
   "cell_type": "markdown",
   "id": "8d03a052",
   "metadata": {},
   "source": [
    "Q.8 Try to filter out all the odd values out all numeric data which is a part of a list"
   ]
  },
  {
   "cell_type": "code",
   "execution_count": 35,
   "id": "1fd0e395",
   "metadata": {},
   "outputs": [
    {
     "name": "stdout",
     "output_type": "stream",
     "text": [
      "1 3 3 5 3 5 7 45 5 23 3 7 "
     ]
    }
   ],
   "source": [
    "for i in numeric_list :\n",
    "    if i % 2 != 0 :\n",
    "        print(i, end = \" \")"
   ]
  },
  {
   "cell_type": "markdown",
   "id": "caf035f4",
   "metadata": {},
   "source": [
    "Q.9 Try to extract \"ineuron\" out of this data"
   ]
  },
  {
   "cell_type": "code",
   "execution_count": 36,
   "id": "2bdc554b",
   "metadata": {},
   "outputs": [
    {
     "name": "stdout",
     "output_type": "stream",
     "text": [
      "ineuron\n",
      "ineuron\n"
     ]
    }
   ],
   "source": [
    "for i in l :\n",
    "    if type(i) == list or  type(i) == set or  type(i) == tuple :\n",
    "        for j in i :\n",
    "            if j == \"ineuron\" :\n",
    "                print(j)\n",
    "    if type(i) == dict :\n",
    "        for k,v in i.items() :\n",
    "            if k == \"ineuron\" or v == \"ineuron\" :\n",
    "                \n",
    "                print(v)"
   ]
  },
  {
   "cell_type": "markdown",
   "id": "12faf374",
   "metadata": {},
   "source": [
    "Q.10 Try to find out a number of occurances of all the data"
   ]
  },
  {
   "cell_type": "code",
   "execution_count": 37,
   "id": "0427c079",
   "metadata": {},
   "outputs": [
    {
     "data": {
      "text/plain": [
       "[[1, 2, 3, 4],\n",
       " (2, 3, 4, 5, 6),\n",
       " (3, 4, 5, 6, 7),\n",
       " {4, 5, 23, 45},\n",
       " {'k1': 'sudh', 'k2': 'ineuron', 'k3': 'kumar', 3: 6, 7: 8},\n",
       " ['ineuron', 'data science ']]"
      ]
     },
     "execution_count": 37,
     "metadata": {},
     "output_type": "execute_result"
    }
   ],
   "source": [
    "l"
   ]
  },
  {
   "cell_type": "code",
   "execution_count": 38,
   "id": "bdf7f5f8",
   "metadata": {},
   "outputs": [
    {
     "name": "stdout",
     "output_type": "stream",
     "text": [
      "1 : 1\n",
      "2 : 1\n",
      "3 : 1\n",
      "4 : 1\n",
      "2 : 1\n",
      "3 : 1\n",
      "4 : 1\n",
      "5 : 1\n",
      "6 : 1\n",
      "3 : 1\n",
      "4 : 1\n",
      "5 : 1\n",
      "6 : 1\n",
      "7 : 1\n",
      "45 : 1\n",
      "4 : 1\n",
      "5 : 1\n",
      "23 : 1\n",
      "k1 : 1\n",
      "sudh : 1\n",
      "k2 : 1\n",
      "ineuron : 1\n",
      "k3 : 1\n",
      "kumar : 1\n",
      "3 : 1\n",
      "6 : 1\n",
      "7 : 1\n",
      "8 : 1\n",
      "ineuron : 1\n",
      "data science  : 1\n"
     ]
    }
   ],
   "source": [
    "\n",
    "for i in l :\n",
    "    if type(i) == tuple  or type(i) == list or type(i) == set  :\n",
    "        for j in i :\n",
    "            print(j, \":\", l.count(i))\n",
    "    if type(i) == dict :\n",
    "        for k,v in i.items() :\n",
    "            print(k, \":\", l.count(i))\n",
    "            print(v, \":\", l.count(i))\n",
    "        \n",
    "        "
   ]
  },
  {
   "cell_type": "markdown",
   "id": "a7ecccca",
   "metadata": {},
   "source": [
    "Q.11 Try to find out number of keys in dict element"
   ]
  },
  {
   "cell_type": "code",
   "execution_count": 39,
   "id": "df0ddf2e",
   "metadata": {},
   "outputs": [
    {
     "name": "stdout",
     "output_type": "stream",
     "text": [
      "k1 : 1\n",
      "k2 : 1\n",
      "k3 : 1\n",
      "3 : 1\n",
      "7 : 1\n"
     ]
    }
   ],
   "source": [
    "for i in l :\n",
    "    if type(i) == dict :\n",
    "        for j in i :\n",
    "            print(j, \":\", l.count(i))"
   ]
  },
  {
   "cell_type": "markdown",
   "id": "4fc02947",
   "metadata": {},
   "source": [
    "Q.12 Try to filter out all the string data "
   ]
  },
  {
   "cell_type": "code",
   "execution_count": 40,
   "id": "5312a29c",
   "metadata": {},
   "outputs": [],
   "source": [
    "for i in l :\n",
    "    if type(i) == str :\n",
    "        for j in i :\n",
    "            print(i)\n",
    "        "
   ]
  },
  {
   "cell_type": "markdown",
   "id": "ead76a92",
   "metadata": {},
   "source": [
    "Q.13 : Try to Find  out alphanum in data"
   ]
  },
  {
   "cell_type": "code",
   "execution_count": 41,
   "id": "a7ebb0f8",
   "metadata": {},
   "outputs": [
    {
     "name": "stdout",
     "output_type": "stream",
     "text": [
      "[1, 2, 3, 4, 2, 3, 4, 5, 6, 3, 4, 5, 6, 7, 45, 4, 5, 23, 'k1', 'k2', 'k3', 3, 7, 'ineuron']\n"
     ]
    }
   ],
   "source": [
    "alnumlist2 = []\n",
    "for i in l :\n",
    "    for j in i :\n",
    "        if str(j).isalnum() :\n",
    "            alnumlist2.append(j)\n",
    "print(alnumlist2)"
   ]
  },
  {
   "cell_type": "markdown",
   "id": "c14181c4",
   "metadata": {},
   "source": [
    "Q.14 Try to find out multiplication of all numeric value in  the individual collection inside dataset "
   ]
  },
  {
   "cell_type": "code",
   "execution_count": 42,
   "id": "efd59fce",
   "metadata": {},
   "outputs": [
    {
     "name": "stdout",
     "output_type": "stream",
     "text": [
      "24\n",
      "17280\n",
      "43545600\n",
      "901393920000\n",
      "18929272320000\n",
      "18929272320000\n"
     ]
    }
   ],
   "source": [
    "product = 1\n",
    "for i in l :\n",
    "    for j in i :\n",
    "        if type(j) == int :\n",
    "            product = product * j\n",
    "            \n",
    "    print(product)"
   ]
  },
  {
   "cell_type": "markdown",
   "id": "310dc921",
   "metadata": {
    "scrolled": true
   },
   "source": [
    "Q.15 Try to unwrape all the collection inside collection and create a flat list"
   ]
  },
  {
   "cell_type": "code",
   "execution_count": 43,
   "id": "b2041939",
   "metadata": {},
   "outputs": [
    {
     "name": "stdout",
     "output_type": "stream",
     "text": [
      "[1, 2, 3, 4, 2, 3, 4, 5, 6, 3, 4, 5, 6, 7, 45, 4, 5, 23, 'k1', 'sudh', 'k2', 'ineuron', 'k3', 'kumar', 3, 6, 7, 8, 'ineuron', 'data science ']\n"
     ]
    }
   ],
   "source": [
    "flatlist = []\n",
    "for i in l :\n",
    "    for j in i :\n",
    "        if type(i) == list or type(i) == set or type(i) == tuple :    \n",
    "            flatlist.append(j)\n",
    "    if type(i) == dict :\n",
    "        for k,v in i.items() :\n",
    "            flatlist.append(k)\n",
    "            flatlist.append(v)\n",
    "print(flatlist)"
   ]
  },
  {
   "cell_type": "code",
   "execution_count": null,
   "id": "992365d7",
   "metadata": {},
   "outputs": [],
   "source": []
  },
  {
   "cell_type": "code",
   "execution_count": null,
   "id": "c7a652a6",
   "metadata": {},
   "outputs": [],
   "source": []
  },
  {
   "cell_type": "code",
   "execution_count": null,
   "id": "2d1ae69e",
   "metadata": {},
   "outputs": [],
   "source": []
  },
  {
   "cell_type": "code",
   "execution_count": null,
   "id": "28b858e1",
   "metadata": {},
   "outputs": [],
   "source": []
  },
  {
   "cell_type": "code",
   "execution_count": null,
   "id": "4b654592",
   "metadata": {},
   "outputs": [],
   "source": []
  },
  {
   "cell_type": "code",
   "execution_count": null,
   "id": "0959409f",
   "metadata": {},
   "outputs": [],
   "source": []
  },
  {
   "cell_type": "code",
   "execution_count": null,
   "id": "2c72de8a",
   "metadata": {},
   "outputs": [],
   "source": []
  },
  {
   "cell_type": "code",
   "execution_count": null,
   "id": "9b06cd68",
   "metadata": {},
   "outputs": [],
   "source": []
  },
  {
   "cell_type": "code",
   "execution_count": null,
   "id": "939ed7a0",
   "metadata": {},
   "outputs": [],
   "source": []
  },
  {
   "cell_type": "code",
   "execution_count": null,
   "id": "f08d6f31",
   "metadata": {},
   "outputs": [],
   "source": []
  },
  {
   "cell_type": "code",
   "execution_count": null,
   "id": "98672685",
   "metadata": {},
   "outputs": [],
   "source": []
  },
  {
   "cell_type": "code",
   "execution_count": null,
   "id": "3b5119c5",
   "metadata": {},
   "outputs": [],
   "source": []
  },
  {
   "cell_type": "code",
   "execution_count": null,
   "id": "fe875998",
   "metadata": {},
   "outputs": [],
   "source": []
  },
  {
   "cell_type": "code",
   "execution_count": null,
   "id": "f1805ccc",
   "metadata": {},
   "outputs": [],
   "source": []
  },
  {
   "cell_type": "code",
   "execution_count": null,
   "id": "c7e350ae",
   "metadata": {},
   "outputs": [],
   "source": []
  },
  {
   "cell_type": "code",
   "execution_count": null,
   "id": "88766d7e",
   "metadata": {},
   "outputs": [],
   "source": []
  },
  {
   "cell_type": "code",
   "execution_count": null,
   "id": "ae5c8c34",
   "metadata": {},
   "outputs": [],
   "source": []
  },
  {
   "cell_type": "code",
   "execution_count": null,
   "id": "3b47e483",
   "metadata": {},
   "outputs": [],
   "source": []
  },
  {
   "cell_type": "code",
   "execution_count": null,
   "id": "bcee0d81",
   "metadata": {},
   "outputs": [],
   "source": []
  },
  {
   "cell_type": "code",
   "execution_count": null,
   "id": "88a198c5",
   "metadata": {},
   "outputs": [],
   "source": []
  },
  {
   "cell_type": "code",
   "execution_count": null,
   "id": "c2efbc55",
   "metadata": {},
   "outputs": [],
   "source": []
  },
  {
   "cell_type": "code",
   "execution_count": null,
   "id": "c7232a34",
   "metadata": {},
   "outputs": [],
   "source": []
  },
  {
   "cell_type": "code",
   "execution_count": null,
   "id": "35f3bfb6",
   "metadata": {},
   "outputs": [],
   "source": []
  },
  {
   "cell_type": "code",
   "execution_count": null,
   "id": "7989908a",
   "metadata": {},
   "outputs": [],
   "source": []
  },
  {
   "cell_type": "code",
   "execution_count": null,
   "id": "0028b7e1",
   "metadata": {},
   "outputs": [],
   "source": []
  }
 ],
 "metadata": {
  "kernelspec": {
   "display_name": "Python 3 (ipykernel)",
   "language": "python",
   "name": "python3"
  },
  "language_info": {
   "codemirror_mode": {
    "name": "ipython",
    "version": 3
   },
   "file_extension": ".py",
   "mimetype": "text/x-python",
   "name": "python",
   "nbconvert_exporter": "python",
   "pygments_lexer": "ipython3",
   "version": "3.9.12"
  }
 },
 "nbformat": 4,
 "nbformat_minor": 5
}
